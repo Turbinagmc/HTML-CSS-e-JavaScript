{
  "nbformat": 4,
  "nbformat_minor": 0,
  "metadata": {
    "colab": {
      "name": "capitulo 2-decisões",
      "provenance": [],
      "authorship_tag": "ABX9TyN7xBxkpqrFWX9/UwnLG+Ez",
      "include_colab_link": true
    },
    "kernelspec": {
      "name": "python3",
      "display_name": "Python 3"
    },
    "language_info": {
      "name": "python"
    }
  },
  "cells": [
    {
      "cell_type": "markdown",
      "metadata": {
        "id": "view-in-github",
        "colab_type": "text"
      },
      "source": [
        "<a href=\"https://colab.research.google.com/github/Turbinagmc/HTML-e-CSS/blob/main/capitulo_2_decis%C3%B5es.ipynb\" target=\"_parent\"><img src=\"https://colab.research.google.com/assets/colab-badge.svg\" alt=\"Open In Colab\"/></a>"
      ]
    },
    {
      "cell_type": "code",
      "metadata": {
        "colab": {
          "base_uri": "https://localhost:8080/"
        },
        "id": "wNaQB_UZx01w",
        "outputId": "44026347-c060-4659-c504-161b392b87dd"
      },
      "source": [
        "nome=input(\"Digite o nome: \")\n",
        "idade=int(input(\"Digite a idade: \"))\n",
        "prioridade=\"NÃO\"\n",
        "if idade>=65:\n",
        "    prioridade=\"SIM\"\n",
        "print(\"O paciente \" + nome + \" possui atendimento prioritário? \" + prioridade)\n"
      ],
      "execution_count": 1,
      "outputs": [
        {
          "output_type": "stream",
          "text": [
            "Digite o nome: gabriel henrique\n",
            "Digite a idade: 21\n",
            "O paciente gabriel henrique possui atendimento prioritário? NÃO\n"
          ],
          "name": "stdout"
        }
      ]
    }
  ]
}